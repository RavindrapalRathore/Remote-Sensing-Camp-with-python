{
  "cells": [
    {
      "cell_type": "markdown",
      "metadata": {
        "id": "view-in-github",
        "colab_type": "text"
      },
      "source": [
        "<a href=\"https://colab.research.google.com/github/RavindrapalRathore/Remote-Sensing-Camp-with-python/blob/main/remote_sensing_with_python.ipynb\" target=\"_parent\"><img src=\"https://colab.research.google.com/assets/colab-badge.svg\" alt=\"Open In Colab\"/></a>"
      ]
    },
    {
      "cell_type": "code",
      "execution_count": 1,
      "metadata": {
        "colab": {
          "base_uri": "https://localhost:8080/"
        },
        "id": "g5fhciAKeqZ4",
        "outputId": "9a858030-e8d7-43fe-8575-6fdfef2c5ccc"
      },
      "outputs": [
        {
          "output_type": "stream",
          "name": "stdout",
          "text": [
            "Requirement already satisfied: geopandas in /usr/local/lib/python3.10/dist-packages (0.13.2)\n",
            "Requirement already satisfied: fiona>=1.8.19 in /usr/local/lib/python3.10/dist-packages (from geopandas) (1.9.4.post1)\n",
            "Requirement already satisfied: packaging in /usr/local/lib/python3.10/dist-packages (from geopandas) (23.1)\n",
            "Requirement already satisfied: pandas>=1.1.0 in /usr/local/lib/python3.10/dist-packages (from geopandas) (1.5.3)\n",
            "Requirement already satisfied: pyproj>=3.0.1 in /usr/local/lib/python3.10/dist-packages (from geopandas) (3.6.0)\n",
            "Requirement already satisfied: shapely>=1.7.1 in /usr/local/lib/python3.10/dist-packages (from geopandas) (2.0.1)\n",
            "Requirement already satisfied: attrs>=19.2.0 in /usr/local/lib/python3.10/dist-packages (from fiona>=1.8.19->geopandas) (23.1.0)\n",
            "Requirement already satisfied: certifi in /usr/local/lib/python3.10/dist-packages (from fiona>=1.8.19->geopandas) (2023.5.7)\n",
            "Requirement already satisfied: click~=8.0 in /usr/local/lib/python3.10/dist-packages (from fiona>=1.8.19->geopandas) (8.1.3)\n",
            "Requirement already satisfied: click-plugins>=1.0 in /usr/local/lib/python3.10/dist-packages (from fiona>=1.8.19->geopandas) (1.1.1)\n",
            "Requirement already satisfied: cligj>=0.5 in /usr/local/lib/python3.10/dist-packages (from fiona>=1.8.19->geopandas) (0.7.2)\n",
            "Requirement already satisfied: six in /usr/local/lib/python3.10/dist-packages (from fiona>=1.8.19->geopandas) (1.16.0)\n",
            "Requirement already satisfied: python-dateutil>=2.8.1 in /usr/local/lib/python3.10/dist-packages (from pandas>=1.1.0->geopandas) (2.8.2)\n",
            "Requirement already satisfied: pytz>=2020.1 in /usr/local/lib/python3.10/dist-packages (from pandas>=1.1.0->geopandas) (2022.7.1)\n",
            "Requirement already satisfied: numpy>=1.21.0 in /usr/local/lib/python3.10/dist-packages (from pandas>=1.1.0->geopandas) (1.22.4)\n"
          ]
        }
      ],
      "source": [
        "pip install geopandas"
      ]
    },
    {
      "cell_type": "code",
      "execution_count": 2,
      "metadata": {
        "id": "9g1tsBvKNlj5"
      },
      "outputs": [],
      "source": [
        "# the regulars\n",
        "import pandas as pd\n",
        "import geopandas as gpd\n",
        "\n",
        "# earth engine\n",
        "import ee\n",
        "\n",
        "# allow images to display in the notebook\n",
        "from IPython.display import Image"
      ]
    },
    {
      "cell_type": "code",
      "execution_count": 5,
      "metadata": {
        "colab": {
          "base_uri": "https://localhost:8080/"
        },
        "id": "O-5f0IKbeaf1",
        "outputId": "287226a7-b8eb-4999-b182-8dec9b49bd56"
      },
      "outputs": [
        {
          "output_type": "stream",
          "name": "stdout",
          "text": [
            "To authorize access needed by Earth Engine, open the following URL in a web browser and follow the instructions. If the web browser does not start automatically, please manually browse the URL below.\n",
            "\n",
            "    https://code.earthengine.google.com/client-auth?scopes=https%3A//www.googleapis.com/auth/earthengine%20https%3A//www.googleapis.com/auth/devstorage.full_control&request_id=ccVNeTikb9tZG8zFgb-npeWadlrj903SQ863yIHx5Fs&tc=XSEPmRSfq3fA1THyZKLuQILe7LbgkVVPDtb06sqi0D8&cc=kTTaFmhE-k7tsfj_SSu6H-NasyXv4f4HwCUBDAaoAFk\n",
            "\n",
            "The authorization workflow will generate a code, which you should paste in the box below.\n",
            "Enter verification code: 4/1AZEOvhUYkJtMBhvTwEc0e7ZWd0R9Rxb-jBhxilSWf1j3FXVxo9PEQY-HDvg\n",
            "\n",
            "Successfully saved authorization token.\n"
          ]
        }
      ],
      "source": [
        "#Trigger the authentication flow\n",
        "ee.Authenticate()\n",
        "\n",
        "# Initialize the libary\n",
        "ee.Initialize()\n"
      ]
    },
    {
      "cell_type": "markdown",
      "metadata": {
        "id": "QtFW5WLF0nFz"
      },
      "source": [
        "## Define filters"
      ]
    },
    {
      "cell_type": "code",
      "execution_count": 6,
      "metadata": {
        "id": "0CanmALjqcgD"
      },
      "outputs": [],
      "source": [
        "# coordinates of the camp fire\n",
        "lat = 39.444012\n",
        "lon = -121.833619\n",
        "\n",
        "# point of interest as an ee.Geometry\n",
        "poi = ee.Geometry.Point(lon,lat)\n",
        "\n",
        "# start date of range to filter for\n",
        "start_date = '2018-10-01'\n",
        "\n",
        "# end date\n",
        "end_date = '2019-01-31'\n"
      ]
    },
    {
      "cell_type": "markdown",
      "metadata": {
        "id": "CG7QhIlK0rTv"
      },
      "source": [
        "## Get Landsat 8 data"
      ]
    },
    {
      "cell_type": "code",
      "execution_count": 7,
      "metadata": {
        "id": "M2MdhEN_0a1C"
      },
      "outputs": [],
      "source": [
        "# get the satellite data\n",
        "landsat = ee.ImageCollection(\"LANDSAT/LC08/C02/T1_L2\")\\\n",
        ".filterBounds(poi)\\\n",
        ".filterDate(start_date,end_date)"
      ]
    },
    {
      "cell_type": "code",
      "execution_count": 8,
      "metadata": {
        "colab": {
          "base_uri": "https://localhost:8080/"
        },
        "id": "nlzjnoGO1Lhn",
        "outputId": "acf707fc-5cb8-45c2-8a0e-d42fdedc00ae"
      },
      "outputs": [
        {
          "output_type": "stream",
          "name": "stdout",
          "text": [
            "Totalnumber: 8\n"
          ]
        }
      ],
      "source": [
        "# how many images did we get?\n",
        "print('Totalnumber:', landsat.size().getInfo())"
      ]
    },
    {
      "cell_type": "code",
      "execution_count": 9,
      "metadata": {
        "colab": {
          "base_uri": "https://localhost:8080/"
        },
        "id": "Dki3eWRw2olY",
        "outputId": "fa0fbc68-112c-4b59-c231-39bcc8cbd559"
      },
      "outputs": [
        {
          "output_type": "execute_result",
          "data": {
            "text/plain": [
              "{'type': 'Image',\n",
              " 'bands': [{'id': 'SR_B1',\n",
              "   'data_type': {'type': 'PixelType',\n",
              "    'precision': 'int',\n",
              "    'min': 0,\n",
              "    'max': 65535},\n",
              "   'dimensions': [7661, 7791],\n",
              "   'crs': 'EPSG:32610',\n",
              "   'crs_transform': [30, 0, 500385, 0, -30, 4423215]},\n",
              "  {'id': 'SR_B2',\n",
              "   'data_type': {'type': 'PixelType',\n",
              "    'precision': 'int',\n",
              "    'min': 0,\n",
              "    'max': 65535},\n",
              "   'dimensions': [7661, 7791],\n",
              "   'crs': 'EPSG:32610',\n",
              "   'crs_transform': [30, 0, 500385, 0, -30, 4423215]},\n",
              "  {'id': 'SR_B3',\n",
              "   'data_type': {'type': 'PixelType',\n",
              "    'precision': 'int',\n",
              "    'min': 0,\n",
              "    'max': 65535},\n",
              "   'dimensions': [7661, 7791],\n",
              "   'crs': 'EPSG:32610',\n",
              "   'crs_transform': [30, 0, 500385, 0, -30, 4423215]},\n",
              "  {'id': 'SR_B4',\n",
              "   'data_type': {'type': 'PixelType',\n",
              "    'precision': 'int',\n",
              "    'min': 0,\n",
              "    'max': 65535},\n",
              "   'dimensions': [7661, 7791],\n",
              "   'crs': 'EPSG:32610',\n",
              "   'crs_transform': [30, 0, 500385, 0, -30, 4423215]},\n",
              "  {'id': 'SR_B5',\n",
              "   'data_type': {'type': 'PixelType',\n",
              "    'precision': 'int',\n",
              "    'min': 0,\n",
              "    'max': 65535},\n",
              "   'dimensions': [7661, 7791],\n",
              "   'crs': 'EPSG:32610',\n",
              "   'crs_transform': [30, 0, 500385, 0, -30, 4423215]},\n",
              "  {'id': 'SR_B6',\n",
              "   'data_type': {'type': 'PixelType',\n",
              "    'precision': 'int',\n",
              "    'min': 0,\n",
              "    'max': 65535},\n",
              "   'dimensions': [7661, 7791],\n",
              "   'crs': 'EPSG:32610',\n",
              "   'crs_transform': [30, 0, 500385, 0, -30, 4423215]},\n",
              "  {'id': 'SR_B7',\n",
              "   'data_type': {'type': 'PixelType',\n",
              "    'precision': 'int',\n",
              "    'min': 0,\n",
              "    'max': 65535},\n",
              "   'dimensions': [7661, 7791],\n",
              "   'crs': 'EPSG:32610',\n",
              "   'crs_transform': [30, 0, 500385, 0, -30, 4423215]},\n",
              "  {'id': 'SR_QA_AEROSOL',\n",
              "   'data_type': {'type': 'PixelType',\n",
              "    'precision': 'int',\n",
              "    'min': 0,\n",
              "    'max': 255},\n",
              "   'dimensions': [7661, 7791],\n",
              "   'crs': 'EPSG:32610',\n",
              "   'crs_transform': [30, 0, 500385, 0, -30, 4423215]},\n",
              "  {'id': 'ST_B10',\n",
              "   'data_type': {'type': 'PixelType',\n",
              "    'precision': 'int',\n",
              "    'min': 0,\n",
              "    'max': 65535},\n",
              "   'dimensions': [7661, 7791],\n",
              "   'crs': 'EPSG:32610',\n",
              "   'crs_transform': [30, 0, 500385, 0, -30, 4423215]},\n",
              "  {'id': 'ST_ATRAN',\n",
              "   'data_type': {'type': 'PixelType',\n",
              "    'precision': 'int',\n",
              "    'min': -32768,\n",
              "    'max': 32767},\n",
              "   'dimensions': [7661, 7791],\n",
              "   'crs': 'EPSG:32610',\n",
              "   'crs_transform': [30, 0, 500385, 0, -30, 4423215]},\n",
              "  {'id': 'ST_CDIST',\n",
              "   'data_type': {'type': 'PixelType',\n",
              "    'precision': 'int',\n",
              "    'min': -32768,\n",
              "    'max': 32767},\n",
              "   'dimensions': [7661, 7791],\n",
              "   'crs': 'EPSG:32610',\n",
              "   'crs_transform': [30, 0, 500385, 0, -30, 4423215]},\n",
              "  {'id': 'ST_DRAD',\n",
              "   'data_type': {'type': 'PixelType',\n",
              "    'precision': 'int',\n",
              "    'min': -32768,\n",
              "    'max': 32767},\n",
              "   'dimensions': [7661, 7791],\n",
              "   'crs': 'EPSG:32610',\n",
              "   'crs_transform': [30, 0, 500385, 0, -30, 4423215]},\n",
              "  {'id': 'ST_EMIS',\n",
              "   'data_type': {'type': 'PixelType',\n",
              "    'precision': 'int',\n",
              "    'min': -32768,\n",
              "    'max': 32767},\n",
              "   'dimensions': [7661, 7791],\n",
              "   'crs': 'EPSG:32610',\n",
              "   'crs_transform': [30, 0, 500385, 0, -30, 4423215]},\n",
              "  {'id': 'ST_EMSD',\n",
              "   'data_type': {'type': 'PixelType',\n",
              "    'precision': 'int',\n",
              "    'min': -32768,\n",
              "    'max': 32767},\n",
              "   'dimensions': [7661, 7791],\n",
              "   'crs': 'EPSG:32610',\n",
              "   'crs_transform': [30, 0, 500385, 0, -30, 4423215]},\n",
              "  {'id': 'ST_QA',\n",
              "   'data_type': {'type': 'PixelType',\n",
              "    'precision': 'int',\n",
              "    'min': -32768,\n",
              "    'max': 32767},\n",
              "   'dimensions': [7661, 7791],\n",
              "   'crs': 'EPSG:32610',\n",
              "   'crs_transform': [30, 0, 500385, 0, -30, 4423215]},\n",
              "  {'id': 'ST_TRAD',\n",
              "   'data_type': {'type': 'PixelType',\n",
              "    'precision': 'int',\n",
              "    'min': -32768,\n",
              "    'max': 32767},\n",
              "   'dimensions': [7661, 7791],\n",
              "   'crs': 'EPSG:32610',\n",
              "   'crs_transform': [30, 0, 500385, 0, -30, 4423215]},\n",
              "  {'id': 'ST_URAD',\n",
              "   'data_type': {'type': 'PixelType',\n",
              "    'precision': 'int',\n",
              "    'min': -32768,\n",
              "    'max': 32767},\n",
              "   'dimensions': [7661, 7791],\n",
              "   'crs': 'EPSG:32610',\n",
              "   'crs_transform': [30, 0, 500385, 0, -30, 4423215]},\n",
              "  {'id': 'QA_PIXEL',\n",
              "   'data_type': {'type': 'PixelType',\n",
              "    'precision': 'int',\n",
              "    'min': 0,\n",
              "    'max': 65535},\n",
              "   'dimensions': [7661, 7791],\n",
              "   'crs': 'EPSG:32610',\n",
              "   'crs_transform': [30, 0, 500385, 0, -30, 4423215]},\n",
              "  {'id': 'QA_RADSAT',\n",
              "   'data_type': {'type': 'PixelType',\n",
              "    'precision': 'int',\n",
              "    'min': 0,\n",
              "    'max': 65535},\n",
              "   'dimensions': [7661, 7791],\n",
              "   'crs': 'EPSG:32610',\n",
              "   'crs_transform': [30, 0, 500385, 0, -30, 4423215]}],\n",
              " 'id': 'LANDSAT/LC08/C02/T1_L2/LC08_044033_20181007',\n",
              " 'version': 1629895720593702,\n",
              " 'properties': {'DATA_SOURCE_ELEVATION': 'GLS2000',\n",
              "  'WRS_TYPE': 2,\n",
              "  'REFLECTANCE_ADD_BAND_1': -0.2,\n",
              "  'REFLECTANCE_ADD_BAND_2': -0.2,\n",
              "  'DATUM': 'WGS84',\n",
              "  'REFLECTANCE_ADD_BAND_3': -0.2,\n",
              "  'REFLECTANCE_ADD_BAND_4': -0.2,\n",
              "  'REFLECTANCE_ADD_BAND_5': -0.2,\n",
              "  'REFLECTANCE_ADD_BAND_6': -0.2,\n",
              "  'REFLECTANCE_ADD_BAND_7': -0.2,\n",
              "  'system:footprint': {'type': 'LinearRing',\n",
              "   'coordinates': [[-120.96945987441705, 37.85396978622024],\n",
              "    [-120.91758272903665, 37.84360095586152],\n",
              "    [-120.91091374989027, 37.84230108097053],\n",
              "    [-120.91032102754652, 37.84319081260253],\n",
              "    [-120.90026375188283, 37.87485737375912],\n",
              "    [-120.88601930375758, 37.91975025888466],\n",
              "    [-120.87475935368046, 37.95523294042605],\n",
              "    [-120.76830993328551, 38.28982473972092],\n",
              "    [-120.60616669159636, 38.7956184110626],\n",
              "    [-120.46920219411804, 39.21870028030481],\n",
              "    [-120.35829507594683, 39.55929948514903],\n",
              "    [-120.358940626908, 39.55982942717467],\n",
              "    [-120.3773619745756, 39.563471697339374],\n",
              "    [-121.13362575572384, 39.70944332250483],\n",
              "    [-122.47094597878574, 39.95415252966201],\n",
              "    [-122.47146231484521, 39.953369391342086],\n",
              "    [-122.47255137997769, 39.95009912185038],\n",
              "    [-122.97579676306593, 38.235899800160965],\n",
              "    [-122.97515026884432, 38.23538966186662],\n",
              "    [-122.83153924692401, 38.209342252115945],\n",
              "    [-120.96945987441705, 37.85396978622024]]},\n",
              "  'REFLECTIVE_SAMPLES': 7661,\n",
              "  'GROUND_CONTROL_POINTS_VERSION': 5,\n",
              "  'SUN_AZIMUTH': 156.37136574,\n",
              "  'DATA_SOURCE_TIRS_STRAY_LIGHT_CORRECTION': 'TIRS',\n",
              "  'UTM_ZONE': 10,\n",
              "  'DATE_ACQUIRED': '2018-10-07',\n",
              "  'ELLIPSOID': 'WGS84',\n",
              "  'system:time_end': 1538937928212,\n",
              "  'DATA_SOURCE_PRESSURE': 'Calculated',\n",
              "  'LANDSAT_PRODUCT_ID': 'LC08_L2SP_044033_20181007_20200830_02_T1',\n",
              "  'STATION_ID': 'LGN',\n",
              "  'TEMPERATURE_ADD_BAND_ST_B10': 149,\n",
              "  'DATA_SOURCE_REANALYSIS': 'GEOS-5 FP-IT',\n",
              "  'REFLECTANCE_MULT_BAND_7': 2.75e-05,\n",
              "  'system:time_start': 1538937928212,\n",
              "  'REFLECTANCE_MULT_BAND_6': 2.75e-05,\n",
              "  'L1_PROCESSING_LEVEL': 'L1TP',\n",
              "  'PROCESSING_SOFTWARE_VERSION': 'LPGS_15.3.1c',\n",
              "  'L1_DATE_PRODUCT_GENERATED': '2020-08-30T22:04:06Z',\n",
              "  'ORIENTATION': 'NORTH_UP',\n",
              "  'REFLECTANCE_MULT_BAND_1': 2.75e-05,\n",
              "  'WRS_ROW': 33,\n",
              "  'REFLECTANCE_MULT_BAND_3': 2.75e-05,\n",
              "  'REFLECTANCE_MULT_BAND_2': 2.75e-05,\n",
              "  'TARGET_WRS_ROW': 33,\n",
              "  'REFLECTANCE_MULT_BAND_5': 2.75e-05,\n",
              "  'REFLECTANCE_MULT_BAND_4': 2.75e-05,\n",
              "  'THERMAL_LINES': 7791,\n",
              "  'TIRS_SSM_POSITION_STATUS': 'ESTIMATED',\n",
              "  'GRID_CELL_SIZE_THERMAL': 30,\n",
              "  'IMAGE_QUALITY_TIRS': 9,\n",
              "  'TRUNCATION_OLI': 'UPPER',\n",
              "  'NADIR_OFFNADIR': 'NADIR',\n",
              "  'CLOUD_COVER': 0.05,\n",
              "  'REQUEST_ID': 'L2',\n",
              "  'EARTH_SUN_DISTANCE': 0.9993983,\n",
              "  'GEOMETRIC_RMSE_VERIFY': 3.028,\n",
              "  'TIRS_SSM_MODEL': 'FINAL',\n",
              "  'COLLECTION_CATEGORY': 'T1',\n",
              "  'SCENE_CENTER_TIME': '18:45:28.2127380Z',\n",
              "  'GRID_CELL_SIZE_REFLECTIVE': 30,\n",
              "  'SUN_ELEVATION': 42.62885674,\n",
              "  'ALGORITHM_SOURCE_SURFACE_TEMPERATURE': 'st_1.3.0',\n",
              "  'TEMPERATURE_MAXIMUM_BAND_ST_B10': 372.999941,\n",
              "  'CLOUD_COVER_LAND': 0.05,\n",
              "  'GEOMETRIC_RMSE_MODEL': 5.915,\n",
              "  'ROLL_ANGLE': -0.001,\n",
              "  'COLLECTION_NUMBER': 2,\n",
              "  'DATE_PRODUCT_GENERATED': 1598825983000,\n",
              "  'L1_REQUEST_ID': 'L2',\n",
              "  'DATA_SOURCE_OZONE': 'MODIS',\n",
              "  'SATURATION_BAND_1': 'Y',\n",
              "  'DATA_SOURCE_WATER_VAPOR': 'MODIS',\n",
              "  'SATURATION_BAND_2': 'Y',\n",
              "  'SATURATION_BAND_3': 'Y',\n",
              "  'IMAGE_QUALITY_OLI': 9,\n",
              "  'SATURATION_BAND_4': 'Y',\n",
              "  'LANDSAT_SCENE_ID': 'LC80440332018280LGN00',\n",
              "  'SATURATION_BAND_5': 'Y',\n",
              "  'MAP_PROJECTION': 'UTM',\n",
              "  'SATURATION_BAND_6': 'Y',\n",
              "  'SENSOR_ID': 'OLI_TIRS',\n",
              "  'SATURATION_BAND_7': 'Y',\n",
              "  'SATURATION_BAND_8': 'N',\n",
              "  'WRS_PATH': 44,\n",
              "  'SATURATION_BAND_9': 'N',\n",
              "  'TARGET_WRS_PATH': 44,\n",
              "  'L1_PROCESSING_SOFTWARE_VERSION': 'LPGS_15.3.1c',\n",
              "  'TEMPERATURE_MULT_BAND_ST_B10': 0.00341802,\n",
              "  'L1_LANDSAT_PRODUCT_ID': 'LC08_L1TP_044033_20181007_20200830_02_T1',\n",
              "  'PROCESSING_LEVEL': 'L2SP',\n",
              "  'ALGORITHM_SOURCE_SURFACE_REFLECTANCE': 'LaSRC_1.5.0',\n",
              "  'GROUND_CONTROL_POINTS_MODEL': 1318,\n",
              "  'SPACECRAFT_ID': 'LANDSAT_8',\n",
              "  'TEMPERATURE_MINIMUM_BAND_ST_B10': 149.003418,\n",
              "  'GEOMETRIC_RMSE_MODEL_Y': 4.945,\n",
              "  'REFLECTIVE_LINES': 7791,\n",
              "  'GEOMETRIC_RMSE_MODEL_X': 3.246,\n",
              "  'THERMAL_SAMPLES': 7661,\n",
              "  'system:asset_size': 965138511,\n",
              "  'DATA_SOURCE_AIR_TEMPERATURE': 'MODIS',\n",
              "  'GROUND_CONTROL_POINTS_VERIFY': 416,\n",
              "  'system:index': 'LC08_044033_20181007'}}"
            ]
          },
          "metadata": {},
          "execution_count": 9
        }
      ],
      "source": [
        "# information about the first image in our collection\n",
        "landsat.first().getInfo()"
      ]
    },
    {
      "cell_type": "code",
      "execution_count": 10,
      "metadata": {
        "id": "UxDpcfvQ25IE",
        "colab": {
          "base_uri": "https://localhost:8080/"
        },
        "outputId": "240a5bdc-88c4-4b33-a963-ddefe2337ce8"
      },
      "outputs": [
        {
          "output_type": "execute_result",
          "data": {
            "text/plain": [
              "0.05"
            ]
          },
          "metadata": {},
          "execution_count": 10
        }
      ],
      "source": [
        "# what about cloud cover of our first image?\n",
        "landsat.first().get('CLOUD_COVER').getInfo()\n"
      ]
    },
    {
      "cell_type": "code",
      "source": [
        "# when was this image taken?\n",
        "landsat.first().get('DATE_ACQUIRED').getInfo()"
      ],
      "metadata": {
        "colab": {
          "base_uri": "https://localhost:8080/",
          "height": 36
        },
        "id": "5lJXR_XPBAc-",
        "outputId": "49d15b5d-9be8-41c3-db58-94c35ecef14c"
      },
      "execution_count": 11,
      "outputs": [
        {
          "output_type": "execute_result",
          "data": {
            "text/plain": [
              "'2018-10-07'"
            ],
            "application/vnd.google.colaboratory.intrinsic+json": {
              "type": "string"
            }
          },
          "metadata": {},
          "execution_count": 11
        }
      ]
    },
    {
      "cell_type": "markdown",
      "source": [
        "## Bands\n"
      ],
      "metadata": {
        "id": "jTOSd8d5BIx7"
      }
    },
    {
      "cell_type": "code",
      "source": [
        "# what bands did we get?\n",
        "landsat.first().bandNames().getInfo()"
      ],
      "metadata": {
        "colab": {
          "base_uri": "https://localhost:8080/"
        },
        "id": "XUGK7y_OBJU_",
        "outputId": "50c82990-b23c-4aa7-8aee-378557211215"
      },
      "execution_count": 12,
      "outputs": [
        {
          "output_type": "execute_result",
          "data": {
            "text/plain": [
              "['SR_B1',\n",
              " 'SR_B2',\n",
              " 'SR_B3',\n",
              " 'SR_B4',\n",
              " 'SR_B5',\n",
              " 'SR_B6',\n",
              " 'SR_B7',\n",
              " 'SR_QA_AEROSOL',\n",
              " 'ST_B10',\n",
              " 'ST_ATRAN',\n",
              " 'ST_CDIST',\n",
              " 'ST_DRAD',\n",
              " 'ST_EMIS',\n",
              " 'ST_EMSD',\n",
              " 'ST_QA',\n",
              " 'ST_TRAD',\n",
              " 'ST_URAD',\n",
              " 'QA_PIXEL',\n",
              " 'QA_RADSAT']"
            ]
          },
          "metadata": {},
          "execution_count": 12
        }
      ]
    },
    {
      "cell_type": "code",
      "source": [
        "# put the images in a list\n",
        "landsat_list = landsat.toList(landsat.size());"
      ],
      "metadata": {
        "id": "v4xju16bBP3Y"
      },
      "execution_count": 13,
      "outputs": []
    },
    {
      "cell_type": "markdown",
      "source": [
        "## Display satellite image\n"
      ],
      "metadata": {
        "id": "nHOoTok-C6Yp"
      }
    },
    {
      "cell_type": "code",
      "source": [
        "# set some parameters for the images\n",
        "parameters = {\n",
        "                'min': 7000,\n",
        "                'max': 16000,\n",
        "                'dimensions': 800, # square size in pixels\n",
        "                'bands': ['SR_B4', 'SR_B3', 'SR_B2'] # bands to display (r,g,b)\n",
        "             }"
      ],
      "metadata": {
        "id": "bD4H1M_CC1Qo"
      },
      "execution_count": 14,
      "outputs": []
    },
    {
      "cell_type": "code",
      "source": [
        "# create an empty data container\n",
        "data = []\n",
        "\n",
        "# loop through each image and display it\n",
        "for i in range(landsat.size().getInfo()):\n",
        "\n",
        "    # when was this image taken?\n",
        "    date = ee.Image(landsat_list.get(i)).get('DATE_ACQUIRED').getInfo()\n",
        "\n",
        "    # cloud cover\n",
        "    cloud = ee.Image(landsat_list.get(i)).get('CLOUD_COVER').getInfo()\n",
        "\n",
        "    # print the image info\n",
        "    print('Image #',i,date,'Cloud cover:',cloud)\n",
        "\n",
        "    # display the image\n",
        "    display(Image(url = ee.Image(landsat_list.get(i)).getThumbUrl(parameters)))\n",
        "\n",
        "    # data to list\n",
        "    this_data = [i,date,cloud]\n",
        "\n",
        "    # append the data\n",
        "    data.append(this_data)\n",
        "\n",
        "\n",
        "# Create the pandas DataFrame\n",
        "df = pd.DataFrame(data, columns = ['Image #', 'Date', 'Cloud Cover'])"
      ],
      "metadata": {
        "colab": {
          "base_uri": "https://localhost:8080/",
          "height": 1000
        },
        "id": "u79Ew4HyC9W8",
        "outputId": "4fbb9220-6a71-46a6-ab3b-a79a17bd660d"
      },
      "execution_count": 15,
      "outputs": [
        {
          "output_type": "stream",
          "name": "stdout",
          "text": [
            "Image # 0 2018-10-07 Cloud cover: 0.05\n"
          ]
        },
        {
          "output_type": "display_data",
          "data": {
            "text/html": [
              "<img src=\"https://earthengine.googleapis.com/v1alpha/projects/earthengine-legacy/thumbnails/7b3182c98690e3772675d2480ebfe6f4-89405582d41ca129221bf1e1e3a0f504:getPixels\"/>"
            ],
            "text/plain": [
              "<IPython.core.display.Image object>"
            ]
          },
          "metadata": {}
        },
        {
          "output_type": "stream",
          "name": "stdout",
          "text": [
            "Image # 1 2018-10-23 Cloud cover: 73.04\n"
          ]
        },
        {
          "output_type": "display_data",
          "data": {
            "text/html": [
              "<img src=\"https://earthengine.googleapis.com/v1alpha/projects/earthengine-legacy/thumbnails/d8cf10296f678f82c24fd4293b17fe1b-7924491567d7657a09abad09a0a52b54:getPixels\"/>"
            ],
            "text/plain": [
              "<IPython.core.display.Image object>"
            ]
          },
          "metadata": {}
        },
        {
          "output_type": "stream",
          "name": "stdout",
          "text": [
            "Image # 2 2018-11-08 Cloud cover: 11.83\n"
          ]
        },
        {
          "output_type": "display_data",
          "data": {
            "text/html": [
              "<img src=\"https://earthengine.googleapis.com/v1alpha/projects/earthengine-legacy/thumbnails/1acff1672c509e33c2658c81cf2002ec-c2e5fe124adec88eb13f33ebf7355bd3:getPixels\"/>"
            ],
            "text/plain": [
              "<IPython.core.display.Image object>"
            ]
          },
          "metadata": {}
        },
        {
          "output_type": "stream",
          "name": "stdout",
          "text": [
            "Image # 3 2018-11-24 Cloud cover: 67.16\n"
          ]
        },
        {
          "output_type": "display_data",
          "data": {
            "text/html": [
              "<img src=\"https://earthengine.googleapis.com/v1alpha/projects/earthengine-legacy/thumbnails/7eb548e7dd44251bdcf03eb59d2a3f02-d7dc8b4ce8e86711e7a51e682311e83f:getPixels\"/>"
            ],
            "text/plain": [
              "<IPython.core.display.Image object>"
            ]
          },
          "metadata": {}
        },
        {
          "output_type": "stream",
          "name": "stdout",
          "text": [
            "Image # 4 2018-12-10 Cloud cover: 56.09\n"
          ]
        },
        {
          "output_type": "display_data",
          "data": {
            "text/html": [
              "<img src=\"https://earthengine.googleapis.com/v1alpha/projects/earthengine-legacy/thumbnails/690740a6ae57ed620e68a2d099ec570f-0ca5e79fdea6b988a21c6467501cfb14:getPixels\"/>"
            ],
            "text/plain": [
              "<IPython.core.display.Image object>"
            ]
          },
          "metadata": {}
        },
        {
          "output_type": "stream",
          "name": "stdout",
          "text": [
            "Image # 5 2018-12-26 Cloud cover: 5.99\n"
          ]
        },
        {
          "output_type": "display_data",
          "data": {
            "text/html": [
              "<img src=\"https://earthengine.googleapis.com/v1alpha/projects/earthengine-legacy/thumbnails/3a4ed92d3a4b6f335962344e43182400-d35ef85c256d0fe20409fd05baf708b8:getPixels\"/>"
            ],
            "text/plain": [
              "<IPython.core.display.Image object>"
            ]
          },
          "metadata": {}
        },
        {
          "output_type": "stream",
          "name": "stdout",
          "text": [
            "Image # 6 2019-01-11 Cloud cover: 80.06\n"
          ]
        },
        {
          "output_type": "display_data",
          "data": {
            "text/html": [
              "<img src=\"https://earthengine.googleapis.com/v1alpha/projects/earthengine-legacy/thumbnails/5c11849f185b5438a5e64d2f79cef91f-c95e22e429b343185d1dda1ff43acc35:getPixels\"/>"
            ],
            "text/plain": [
              "<IPython.core.display.Image object>"
            ]
          },
          "metadata": {}
        },
        {
          "output_type": "stream",
          "name": "stdout",
          "text": [
            "Image # 7 2019-01-27 Cloud cover: 5.21\n"
          ]
        },
        {
          "output_type": "display_data",
          "data": {
            "text/html": [
              "<img src=\"https://earthengine.googleapis.com/v1alpha/projects/earthengine-legacy/thumbnails/da7afd486868a11052f6f21d46c0c6df-7f56fc3083372377fadb1cdf9ec58298:getPixels\"/>"
            ],
            "text/plain": [
              "<IPython.core.display.Image object>"
            ]
          },
          "metadata": {}
        }
      ]
    },
    {
      "cell_type": "code",
      "source": [
        "# our data in a dataframe\n",
        "df"
      ],
      "metadata": {
        "colab": {
          "base_uri": "https://localhost:8080/",
          "height": 300
        },
        "id": "2xt209fWC_7b",
        "outputId": "c4db510c-c0fd-462a-fdab-ab6c3f43c0c3"
      },
      "execution_count": 16,
      "outputs": [
        {
          "output_type": "execute_result",
          "data": {
            "text/plain": [
              "   Image #        Date  Cloud Cover\n",
              "0        0  2018-10-07         0.05\n",
              "1        1  2018-10-23        73.04\n",
              "2        2  2018-11-08        11.83\n",
              "3        3  2018-11-24        67.16\n",
              "4        4  2018-12-10        56.09\n",
              "5        5  2018-12-26         5.99\n",
              "6        6  2019-01-11        80.06\n",
              "7        7  2019-01-27         5.21"
            ],
            "text/html": [
              "\n",
              "  <div id=\"df-b34e84c7-dac6-482b-a86b-b25ab52ec1af\">\n",
              "    <div class=\"colab-df-container\">\n",
              "      <div>\n",
              "<style scoped>\n",
              "    .dataframe tbody tr th:only-of-type {\n",
              "        vertical-align: middle;\n",
              "    }\n",
              "\n",
              "    .dataframe tbody tr th {\n",
              "        vertical-align: top;\n",
              "    }\n",
              "\n",
              "    .dataframe thead th {\n",
              "        text-align: right;\n",
              "    }\n",
              "</style>\n",
              "<table border=\"1\" class=\"dataframe\">\n",
              "  <thead>\n",
              "    <tr style=\"text-align: right;\">\n",
              "      <th></th>\n",
              "      <th>Image #</th>\n",
              "      <th>Date</th>\n",
              "      <th>Cloud Cover</th>\n",
              "    </tr>\n",
              "  </thead>\n",
              "  <tbody>\n",
              "    <tr>\n",
              "      <th>0</th>\n",
              "      <td>0</td>\n",
              "      <td>2018-10-07</td>\n",
              "      <td>0.05</td>\n",
              "    </tr>\n",
              "    <tr>\n",
              "      <th>1</th>\n",
              "      <td>1</td>\n",
              "      <td>2018-10-23</td>\n",
              "      <td>73.04</td>\n",
              "    </tr>\n",
              "    <tr>\n",
              "      <th>2</th>\n",
              "      <td>2</td>\n",
              "      <td>2018-11-08</td>\n",
              "      <td>11.83</td>\n",
              "    </tr>\n",
              "    <tr>\n",
              "      <th>3</th>\n",
              "      <td>3</td>\n",
              "      <td>2018-11-24</td>\n",
              "      <td>67.16</td>\n",
              "    </tr>\n",
              "    <tr>\n",
              "      <th>4</th>\n",
              "      <td>4</td>\n",
              "      <td>2018-12-10</td>\n",
              "      <td>56.09</td>\n",
              "    </tr>\n",
              "    <tr>\n",
              "      <th>5</th>\n",
              "      <td>5</td>\n",
              "      <td>2018-12-26</td>\n",
              "      <td>5.99</td>\n",
              "    </tr>\n",
              "    <tr>\n",
              "      <th>6</th>\n",
              "      <td>6</td>\n",
              "      <td>2019-01-11</td>\n",
              "      <td>80.06</td>\n",
              "    </tr>\n",
              "    <tr>\n",
              "      <th>7</th>\n",
              "      <td>7</td>\n",
              "      <td>2019-01-27</td>\n",
              "      <td>5.21</td>\n",
              "    </tr>\n",
              "  </tbody>\n",
              "</table>\n",
              "</div>\n",
              "      <button class=\"colab-df-convert\" onclick=\"convertToInteractive('df-b34e84c7-dac6-482b-a86b-b25ab52ec1af')\"\n",
              "              title=\"Convert this dataframe to an interactive table.\"\n",
              "              style=\"display:none;\">\n",
              "        \n",
              "  <svg xmlns=\"http://www.w3.org/2000/svg\" height=\"24px\"viewBox=\"0 0 24 24\"\n",
              "       width=\"24px\">\n",
              "    <path d=\"M0 0h24v24H0V0z\" fill=\"none\"/>\n",
              "    <path d=\"M18.56 5.44l.94 2.06.94-2.06 2.06-.94-2.06-.94-.94-2.06-.94 2.06-2.06.94zm-11 1L8.5 8.5l.94-2.06 2.06-.94-2.06-.94L8.5 2.5l-.94 2.06-2.06.94zm10 10l.94 2.06.94-2.06 2.06-.94-2.06-.94-.94-2.06-.94 2.06-2.06.94z\"/><path d=\"M17.41 7.96l-1.37-1.37c-.4-.4-.92-.59-1.43-.59-.52 0-1.04.2-1.43.59L10.3 9.45l-7.72 7.72c-.78.78-.78 2.05 0 2.83L4 21.41c.39.39.9.59 1.41.59.51 0 1.02-.2 1.41-.59l7.78-7.78 2.81-2.81c.8-.78.8-2.07 0-2.86zM5.41 20L4 18.59l7.72-7.72 1.47 1.35L5.41 20z\"/>\n",
              "  </svg>\n",
              "      </button>\n",
              "      \n",
              "  <style>\n",
              "    .colab-df-container {\n",
              "      display:flex;\n",
              "      flex-wrap:wrap;\n",
              "      gap: 12px;\n",
              "    }\n",
              "\n",
              "    .colab-df-convert {\n",
              "      background-color: #E8F0FE;\n",
              "      border: none;\n",
              "      border-radius: 50%;\n",
              "      cursor: pointer;\n",
              "      display: none;\n",
              "      fill: #1967D2;\n",
              "      height: 32px;\n",
              "      padding: 0 0 0 0;\n",
              "      width: 32px;\n",
              "    }\n",
              "\n",
              "    .colab-df-convert:hover {\n",
              "      background-color: #E2EBFA;\n",
              "      box-shadow: 0px 1px 2px rgba(60, 64, 67, 0.3), 0px 1px 3px 1px rgba(60, 64, 67, 0.15);\n",
              "      fill: #174EA6;\n",
              "    }\n",
              "\n",
              "    [theme=dark] .colab-df-convert {\n",
              "      background-color: #3B4455;\n",
              "      fill: #D2E3FC;\n",
              "    }\n",
              "\n",
              "    [theme=dark] .colab-df-convert:hover {\n",
              "      background-color: #434B5C;\n",
              "      box-shadow: 0px 1px 3px 1px rgba(0, 0, 0, 0.15);\n",
              "      filter: drop-shadow(0px 1px 2px rgba(0, 0, 0, 0.3));\n",
              "      fill: #FFFFFF;\n",
              "    }\n",
              "  </style>\n",
              "\n",
              "      <script>\n",
              "        const buttonEl =\n",
              "          document.querySelector('#df-b34e84c7-dac6-482b-a86b-b25ab52ec1af button.colab-df-convert');\n",
              "        buttonEl.style.display =\n",
              "          google.colab.kernel.accessAllowed ? 'block' : 'none';\n",
              "\n",
              "        async function convertToInteractive(key) {\n",
              "          const element = document.querySelector('#df-b34e84c7-dac6-482b-a86b-b25ab52ec1af');\n",
              "          const dataTable =\n",
              "            await google.colab.kernel.invokeFunction('convertToInteractive',\n",
              "                                                     [key], {});\n",
              "          if (!dataTable) return;\n",
              "\n",
              "          const docLinkHtml = 'Like what you see? Visit the ' +\n",
              "            '<a target=\"_blank\" href=https://colab.research.google.com/notebooks/data_table.ipynb>data table notebook</a>'\n",
              "            + ' to learn more about interactive tables.';\n",
              "          element.innerHTML = '';\n",
              "          dataTable['output_type'] = 'display_data';\n",
              "          await google.colab.output.renderOutput(dataTable, element);\n",
              "          const docLink = document.createElement('div');\n",
              "          docLink.innerHTML = docLinkHtml;\n",
              "          element.appendChild(docLink);\n",
              "        }\n",
              "      </script>\n",
              "    </div>\n",
              "  </div>\n",
              "  "
            ]
          },
          "metadata": {},
          "execution_count": 16
        }
      ]
    },
    {
      "cell_type": "markdown",
      "source": [
        "## Selecting images, zooming in\n",
        "Now that we have inspected our collection of images, we can pick and choose which ones are relevant for our study. Ideally, we want to have images for before and after the fire to be able to assess the level of damage.\n",
        "\n",
        "We also want to create an ROI (region of interest) and zoom in to the area of interest. We do so by appying a 20km buffer around our POI."
      ],
      "metadata": {
        "id": "MyERjZ1WDOi7"
      }
    },
    {
      "cell_type": "code",
      "source": [
        "# create a list of images we want (before, during, after)\n",
        "landsat_sequence = [0,2,5]"
      ],
      "metadata": {
        "id": "X0u7oOrRDLHQ"
      },
      "execution_count": 17,
      "outputs": []
    },
    {
      "cell_type": "code",
      "source": [
        "# Define a region of interest with a buffer zone of 20 km\n",
        "roi = poi.buffer(20000) # meters"
      ],
      "metadata": {
        "id": "cxU32eeUDZa1"
      },
      "execution_count": 18,
      "outputs": []
    },
    {
      "cell_type": "code",
      "source": [
        "parameters = {\n",
        "                'min': 6000,\n",
        "                'max': 16000,\n",
        "                'dimensions': 800,\n",
        "                'bands': ['SR_B4', 'SR_B3', 'SR_B2'],\n",
        "                'region':roi\n",
        "             }"
      ],
      "metadata": {
        "id": "aNS6ABzJDbFc"
      },
      "execution_count": 19,
      "outputs": []
    },
    {
      "cell_type": "code",
      "source": [
        "for i in landsat_sequence:\n",
        "\n",
        "    # when was this image taken?\n",
        "    date = ee.Image(landsat_list.get(i)).get('DATE_ACQUIRED').getInfo()\n",
        "\n",
        "    # cloud cover\n",
        "    cloud = ee.Image(landsat_list.get(i)).get('CLOUD_COVER').getInfo()\n",
        "\n",
        "    print('Image #',i,date,'Cloud cover:',cloud)\n",
        "\n",
        "    display(Image(url = ee.Image(landsat_list.get(i)).getThumbUrl(parameters)))"
      ],
      "metadata": {
        "colab": {
          "base_uri": "https://localhost:8080/",
          "height": 1000
        },
        "id": "J79KH5eHDewl",
        "outputId": "4f5701f9-b721-43b8-d15c-8563e4f0410e"
      },
      "execution_count": 20,
      "outputs": [
        {
          "output_type": "stream",
          "name": "stdout",
          "text": [
            "Image # 0 2018-10-07 Cloud cover: 0.05\n"
          ]
        },
        {
          "output_type": "display_data",
          "data": {
            "text/html": [
              "<img src=\"https://earthengine.googleapis.com/v1alpha/projects/earthengine-legacy/thumbnails/1864e18fd1e90ff4fbf9d3716096e9a3-7d8f0a4f6612e15900e2ff30119aab9f:getPixels\"/>"
            ],
            "text/plain": [
              "<IPython.core.display.Image object>"
            ]
          },
          "metadata": {}
        },
        {
          "output_type": "stream",
          "name": "stdout",
          "text": [
            "Image # 2 2018-11-08 Cloud cover: 11.83\n"
          ]
        },
        {
          "output_type": "display_data",
          "data": {
            "text/html": [
              "<img src=\"https://earthengine.googleapis.com/v1alpha/projects/earthengine-legacy/thumbnails/b3d7d3cee5f0acd30dab5cae6312b7fb-09ccd423c546cc1d53a003964dc3f7fc:getPixels\"/>"
            ],
            "text/plain": [
              "<IPython.core.display.Image object>"
            ]
          },
          "metadata": {}
        },
        {
          "output_type": "stream",
          "name": "stdout",
          "text": [
            "Image # 5 2018-12-26 Cloud cover: 5.99\n"
          ]
        },
        {
          "output_type": "display_data",
          "data": {
            "text/html": [
              "<img src=\"https://earthengine.googleapis.com/v1alpha/projects/earthengine-legacy/thumbnails/2252abff24d2a597f5ec241d3558741f-3a204e990798876f6067f50045f381e0:getPixels\"/>"
            ],
            "text/plain": [
              "<IPython.core.display.Image object>"
            ]
          },
          "metadata": {}
        }
      ]
    },
    {
      "cell_type": "markdown",
      "source": [
        "<div class=\"alert alert-info\">\n",
        "Take a moment to inspect the three images above. What do they tell you? What do they NOT tell you?\n",
        "</div>"
      ],
      "metadata": {
        "id": "rB0G9t_TD-qp"
      }
    },
    {
      "cell_type": "markdown",
      "source": [
        "## Normalized Difference Vegetation Index (NDVI)\n",
        "\n",
        "The normalized difference vegetation index (NDVI) is a simple graphical indicator that can be used to analyze remote sensing measurements, often from a space platform, assessing whether or not the target being observed contains live green vegetation."
      ],
      "metadata": {
        "id": "LvXYrqlAD5Xo"
      }
    },
    {
      "cell_type": "markdown",
      "source": [
        "### Calculating NDVI in Google Earth Engine"
      ],
      "metadata": {
        "id": "s_TNVULVEB-p"
      }
    },
    {
      "cell_type": "code",
      "source": [
        "# ndvi palette: red is low, green is high vegetation\n",
        "palette = ['red', 'yellow', 'green']\n",
        "\n",
        "ndvi_parameters = {'min': 0,\n",
        "                   'max': 0.4,\n",
        "                   'dimensions': 512,\n",
        "                   'palette': palette,\n",
        "                   'region': roi}"
      ],
      "metadata": {
        "id": "Hz4EBNL8Dh9U"
      },
      "execution_count": 21,
      "outputs": []
    },
    {
      "cell_type": "code",
      "source": [
        "for i in landsat_sequence:\n",
        "\n",
        "    # when was this image taken?\n",
        "    date = ee.Image(landsat_list.get(i)).get('DATE_ACQUIRED').getInfo()\n",
        "\n",
        "    # print some information\n",
        "    print('Image #',i,date)\n",
        "\n",
        "    # display the image\n",
        "    display(Image(url=ee.Image(landsat_list.get(i)).normalizedDifference(['SR_B5', 'SR_B4']).getThumbUrl(ndvi_parameters)))"
      ],
      "metadata": {
        "colab": {
          "base_uri": "https://localhost:8080/",
          "height": 1000
        },
        "id": "up6C8aXnEEYC",
        "outputId": "3e9e3465-f5bc-4919-b41b-dd2396df7884"
      },
      "execution_count": 22,
      "outputs": [
        {
          "output_type": "stream",
          "name": "stdout",
          "text": [
            "Image # 0 2018-10-07\n"
          ]
        },
        {
          "output_type": "display_data",
          "data": {
            "text/html": [
              "<img src=\"https://earthengine.googleapis.com/v1alpha/projects/earthengine-legacy/thumbnails/66ebbfc7fcfe4f42eacb55d641af4897-ee1cfa2fa57a76da30ad55b6321e45ba:getPixels\"/>"
            ],
            "text/plain": [
              "<IPython.core.display.Image object>"
            ]
          },
          "metadata": {}
        },
        {
          "output_type": "stream",
          "name": "stdout",
          "text": [
            "Image # 2 2018-11-08\n"
          ]
        },
        {
          "output_type": "display_data",
          "data": {
            "text/html": [
              "<img src=\"https://earthengine.googleapis.com/v1alpha/projects/earthengine-legacy/thumbnails/82fc4cad5f16d32165347df769abfcb1-9bd586daa5cbaaee76a1b7a0791a8b61:getPixels\"/>"
            ],
            "text/plain": [
              "<IPython.core.display.Image object>"
            ]
          },
          "metadata": {}
        },
        {
          "output_type": "stream",
          "name": "stdout",
          "text": [
            "Image # 5 2018-12-26\n"
          ]
        },
        {
          "output_type": "display_data",
          "data": {
            "text/html": [
              "<img src=\"https://earthengine.googleapis.com/v1alpha/projects/earthengine-legacy/thumbnails/0bbdc9dd730282ce60d7af640b47ecbb-10c61e27d27690370c06e4e7ddc47dd5:getPixels\"/>"
            ],
            "text/plain": [
              "<IPython.core.display.Image object>"
            ]
          },
          "metadata": {}
        }
      ]
    },
    {
      "cell_type": "markdown",
      "source": [
        "## Folium"
      ],
      "metadata": {
        "id": "ybgVhbNXEaGk"
      }
    },
    {
      "cell_type": "code",
      "source": [
        "# a simple folium map\n",
        "import folium\n",
        "\n",
        "m = folium.Map(location=[lat,lon])\n",
        "m"
      ],
      "metadata": {
        "colab": {
          "base_uri": "https://localhost:8080/",
          "height": 969
        },
        "id": "-fC9TED7EHAP",
        "outputId": "bd51f4d6-a38c-4f65-8cc7-7d51b0e87055"
      },
      "execution_count": 23,
      "outputs": [
        {
          "output_type": "execute_result",
          "data": {
            "text/plain": [
              "<folium.folium.Map at 0x7fa22d051960>"
            ],
            "text/html": [
              "<div style=\"width:100%;\"><div style=\"position:relative;width:100%;height:0;padding-bottom:60%;\"><span style=\"color:#565656\">Make this Notebook Trusted to load map: File -> Trust Notebook</span><iframe srcdoc=\"&lt;!DOCTYPE html&gt;\n",
              "&lt;html&gt;\n",
              "&lt;head&gt;\n",
              "    \n",
              "    &lt;meta http-equiv=&quot;content-type&quot; content=&quot;text/html; charset=UTF-8&quot; /&gt;\n",
              "    \n",
              "        &lt;script&gt;\n",
              "            L_NO_TOUCH = false;\n",
              "            L_DISABLE_3D = false;\n",
              "        &lt;/script&gt;\n",
              "    \n",
              "    &lt;style&gt;html, body {width: 100%;height: 100%;margin: 0;padding: 0;}&lt;/style&gt;\n",
              "    &lt;style&gt;#map {position:absolute;top:0;bottom:0;right:0;left:0;}&lt;/style&gt;\n",
              "    &lt;script src=&quot;https://cdn.jsdelivr.net/npm/leaflet@1.9.3/dist/leaflet.js&quot;&gt;&lt;/script&gt;\n",
              "    &lt;script src=&quot;https://code.jquery.com/jquery-1.12.4.min.js&quot;&gt;&lt;/script&gt;\n",
              "    &lt;script src=&quot;https://cdn.jsdelivr.net/npm/bootstrap@5.2.2/dist/js/bootstrap.bundle.min.js&quot;&gt;&lt;/script&gt;\n",
              "    &lt;script src=&quot;https://cdnjs.cloudflare.com/ajax/libs/Leaflet.awesome-markers/2.0.2/leaflet.awesome-markers.js&quot;&gt;&lt;/script&gt;\n",
              "    &lt;link rel=&quot;stylesheet&quot; href=&quot;https://cdn.jsdelivr.net/npm/leaflet@1.9.3/dist/leaflet.css&quot;/&gt;\n",
              "    &lt;link rel=&quot;stylesheet&quot; href=&quot;https://cdn.jsdelivr.net/npm/bootstrap@5.2.2/dist/css/bootstrap.min.css&quot;/&gt;\n",
              "    &lt;link rel=&quot;stylesheet&quot; href=&quot;https://netdna.bootstrapcdn.com/bootstrap/3.0.0/css/bootstrap.min.css&quot;/&gt;\n",
              "    &lt;link rel=&quot;stylesheet&quot; href=&quot;https://cdn.jsdelivr.net/npm/@fortawesome/fontawesome-free@6.2.0/css/all.min.css&quot;/&gt;\n",
              "    &lt;link rel=&quot;stylesheet&quot; href=&quot;https://cdnjs.cloudflare.com/ajax/libs/Leaflet.awesome-markers/2.0.2/leaflet.awesome-markers.css&quot;/&gt;\n",
              "    &lt;link rel=&quot;stylesheet&quot; href=&quot;https://cdn.jsdelivr.net/gh/python-visualization/folium/folium/templates/leaflet.awesome.rotate.min.css&quot;/&gt;\n",
              "    \n",
              "            &lt;meta name=&quot;viewport&quot; content=&quot;width=device-width,\n",
              "                initial-scale=1.0, maximum-scale=1.0, user-scalable=no&quot; /&gt;\n",
              "            &lt;style&gt;\n",
              "                #map_3a788d4190e044e1f28515757eea74e1 {\n",
              "                    position: relative;\n",
              "                    width: 100.0%;\n",
              "                    height: 100.0%;\n",
              "                    left: 0.0%;\n",
              "                    top: 0.0%;\n",
              "                }\n",
              "                .leaflet-container { font-size: 1rem; }\n",
              "            &lt;/style&gt;\n",
              "        \n",
              "&lt;/head&gt;\n",
              "&lt;body&gt;\n",
              "    \n",
              "    \n",
              "            &lt;div class=&quot;folium-map&quot; id=&quot;map_3a788d4190e044e1f28515757eea74e1&quot; &gt;&lt;/div&gt;\n",
              "        \n",
              "&lt;/body&gt;\n",
              "&lt;script&gt;\n",
              "    \n",
              "    \n",
              "            var map_3a788d4190e044e1f28515757eea74e1 = L.map(\n",
              "                &quot;map_3a788d4190e044e1f28515757eea74e1&quot;,\n",
              "                {\n",
              "                    center: [39.444012, -121.833619],\n",
              "                    crs: L.CRS.EPSG3857,\n",
              "                    zoom: 10,\n",
              "                    zoomControl: true,\n",
              "                    preferCanvas: false,\n",
              "                }\n",
              "            );\n",
              "\n",
              "            \n",
              "\n",
              "        \n",
              "    \n",
              "            var tile_layer_7790beb325eab9987c3cb5259b9a502a = L.tileLayer(\n",
              "                &quot;https://{s}.tile.openstreetmap.org/{z}/{x}/{y}.png&quot;,\n",
              "                {&quot;attribution&quot;: &quot;Data by \\u0026copy; \\u003ca target=\\&quot;_blank\\&quot; href=\\&quot;http://openstreetmap.org\\&quot;\\u003eOpenStreetMap\\u003c/a\\u003e, under \\u003ca target=\\&quot;_blank\\&quot; href=\\&quot;http://www.openstreetmap.org/copyright\\&quot;\\u003eODbL\\u003c/a\\u003e.&quot;, &quot;detectRetina&quot;: false, &quot;maxNativeZoom&quot;: 18, &quot;maxZoom&quot;: 18, &quot;minZoom&quot;: 0, &quot;noWrap&quot;: false, &quot;opacity&quot;: 1, &quot;subdomains&quot;: &quot;abc&quot;, &quot;tms&quot;: false}\n",
              "            ).addTo(map_3a788d4190e044e1f28515757eea74e1);\n",
              "        \n",
              "&lt;/script&gt;\n",
              "&lt;/html&gt;\" style=\"position:absolute;width:100%;height:100%;left:0;top:0;border:none !important;\" allowfullscreen webkitallowfullscreen mozallowfullscreen></iframe></div></div>"
            ]
          },
          "metadata": {},
          "execution_count": 23
        }
      ]
    },
    {
      "cell_type": "code",
      "source": [
        "# Google function that allows ee layers on folium\n",
        "def add_ee_layer(self, ee_image_object, vis_params, name):\n",
        "    \"\"\"Adds a method for displaying Earth Engine image tiles to folium map.\"\"\"\n",
        "    map_id_dict = ee.Image(ee_image_object).getMapId(vis_params)\n",
        "    folium.raster_layers.TileLayer(\n",
        "        tiles=map_id_dict['tile_fetcher'].url_format,\n",
        "        attr='Map Data &copy; <a href=\"https://earthengine.google.com/\">Google Earth Engine</a>',\n",
        "        name=name,\n",
        "        overlay=True,\n",
        "        control=True\n",
        "    ).add_to(self)\n",
        "\n",
        "# Add Earth Engine drawing method to folium\n",
        "folium.Map.add_ee_layer = add_ee_layer"
      ],
      "metadata": {
        "id": "z1hDWo1rEcN5"
      },
      "execution_count": 24,
      "outputs": []
    },
    {
      "cell_type": "code",
      "source": [
        "# Create a map\n",
        "my_map = folium.Map(location=[lat, lon], zoom_start=10)\n",
        "\n",
        "# Add a layer for each satellite image of interest (before, during and after)\n",
        "for i in landsat_sequence:\n",
        "\n",
        "    # when was this image taken?\n",
        "    date = ee.Image(landsat_list.get(i)).get('DATE_ACQUIRED').getInfo()\n",
        "\n",
        "    my_map.add_ee_layer(ee.Image(landsat_list.get(i)).normalizedDifference(['SR_B5', 'SR_B4']),\n",
        "                        ndvi_parameters,\n",
        "                        name=date)\n",
        "\n",
        "# Add a layer control panel to the map\n",
        "folium.LayerControl(collapsed = False).add_to(my_map)\n",
        "\n",
        "# Display the map.\n",
        "display(my_map)"
      ],
      "metadata": {
        "colab": {
          "base_uri": "https://localhost:8080/",
          "height": 969
        },
        "id": "5QniBVX-Emrt",
        "outputId": "471a4dff-cd51-4f3e-bca9-93b18b1025d5"
      },
      "execution_count": 25,
      "outputs": [
        {
          "output_type": "display_data",
          "data": {
            "text/plain": [
              "<folium.folium.Map at 0x7fa22ca59540>"
            ],
            "text/html": [
              "<div style=\"width:100%;\"><div style=\"position:relative;width:100%;height:0;padding-bottom:60%;\"><span style=\"color:#565656\">Make this Notebook Trusted to load map: File -> Trust Notebook</span><iframe srcdoc=\"&lt;!DOCTYPE html&gt;\n",
              "&lt;html&gt;\n",
              "&lt;head&gt;\n",
              "    \n",
              "    &lt;meta http-equiv=&quot;content-type&quot; content=&quot;text/html; charset=UTF-8&quot; /&gt;\n",
              "    \n",
              "        &lt;script&gt;\n",
              "            L_NO_TOUCH = false;\n",
              "            L_DISABLE_3D = false;\n",
              "        &lt;/script&gt;\n",
              "    \n",
              "    &lt;style&gt;html, body {width: 100%;height: 100%;margin: 0;padding: 0;}&lt;/style&gt;\n",
              "    &lt;style&gt;#map {position:absolute;top:0;bottom:0;right:0;left:0;}&lt;/style&gt;\n",
              "    &lt;script src=&quot;https://cdn.jsdelivr.net/npm/leaflet@1.9.3/dist/leaflet.js&quot;&gt;&lt;/script&gt;\n",
              "    &lt;script src=&quot;https://code.jquery.com/jquery-1.12.4.min.js&quot;&gt;&lt;/script&gt;\n",
              "    &lt;script src=&quot;https://cdn.jsdelivr.net/npm/bootstrap@5.2.2/dist/js/bootstrap.bundle.min.js&quot;&gt;&lt;/script&gt;\n",
              "    &lt;script src=&quot;https://cdnjs.cloudflare.com/ajax/libs/Leaflet.awesome-markers/2.0.2/leaflet.awesome-markers.js&quot;&gt;&lt;/script&gt;\n",
              "    &lt;link rel=&quot;stylesheet&quot; href=&quot;https://cdn.jsdelivr.net/npm/leaflet@1.9.3/dist/leaflet.css&quot;/&gt;\n",
              "    &lt;link rel=&quot;stylesheet&quot; href=&quot;https://cdn.jsdelivr.net/npm/bootstrap@5.2.2/dist/css/bootstrap.min.css&quot;/&gt;\n",
              "    &lt;link rel=&quot;stylesheet&quot; href=&quot;https://netdna.bootstrapcdn.com/bootstrap/3.0.0/css/bootstrap.min.css&quot;/&gt;\n",
              "    &lt;link rel=&quot;stylesheet&quot; href=&quot;https://cdn.jsdelivr.net/npm/@fortawesome/fontawesome-free@6.2.0/css/all.min.css&quot;/&gt;\n",
              "    &lt;link rel=&quot;stylesheet&quot; href=&quot;https://cdnjs.cloudflare.com/ajax/libs/Leaflet.awesome-markers/2.0.2/leaflet.awesome-markers.css&quot;/&gt;\n",
              "    &lt;link rel=&quot;stylesheet&quot; href=&quot;https://cdn.jsdelivr.net/gh/python-visualization/folium/folium/templates/leaflet.awesome.rotate.min.css&quot;/&gt;\n",
              "    \n",
              "            &lt;meta name=&quot;viewport&quot; content=&quot;width=device-width,\n",
              "                initial-scale=1.0, maximum-scale=1.0, user-scalable=no&quot; /&gt;\n",
              "            &lt;style&gt;\n",
              "                #map_efd10ea39b3d9740b9d39343ae0ac383 {\n",
              "                    position: relative;\n",
              "                    width: 100.0%;\n",
              "                    height: 100.0%;\n",
              "                    left: 0.0%;\n",
              "                    top: 0.0%;\n",
              "                }\n",
              "                .leaflet-container { font-size: 1rem; }\n",
              "            &lt;/style&gt;\n",
              "        \n",
              "&lt;/head&gt;\n",
              "&lt;body&gt;\n",
              "    \n",
              "    \n",
              "            &lt;div class=&quot;folium-map&quot; id=&quot;map_efd10ea39b3d9740b9d39343ae0ac383&quot; &gt;&lt;/div&gt;\n",
              "        \n",
              "&lt;/body&gt;\n",
              "&lt;script&gt;\n",
              "    \n",
              "    \n",
              "            var map_efd10ea39b3d9740b9d39343ae0ac383 = L.map(\n",
              "                &quot;map_efd10ea39b3d9740b9d39343ae0ac383&quot;,\n",
              "                {\n",
              "                    center: [39.444012, -121.833619],\n",
              "                    crs: L.CRS.EPSG3857,\n",
              "                    zoom: 10,\n",
              "                    zoomControl: true,\n",
              "                    preferCanvas: false,\n",
              "                }\n",
              "            );\n",
              "\n",
              "            \n",
              "\n",
              "        \n",
              "    \n",
              "            var tile_layer_72a418a630bf7316239246e4286f54db = L.tileLayer(\n",
              "                &quot;https://{s}.tile.openstreetmap.org/{z}/{x}/{y}.png&quot;,\n",
              "                {&quot;attribution&quot;: &quot;Data by \\u0026copy; \\u003ca target=\\&quot;_blank\\&quot; href=\\&quot;http://openstreetmap.org\\&quot;\\u003eOpenStreetMap\\u003c/a\\u003e, under \\u003ca target=\\&quot;_blank\\&quot; href=\\&quot;http://www.openstreetmap.org/copyright\\&quot;\\u003eODbL\\u003c/a\\u003e.&quot;, &quot;detectRetina&quot;: false, &quot;maxNativeZoom&quot;: 18, &quot;maxZoom&quot;: 18, &quot;minZoom&quot;: 0, &quot;noWrap&quot;: false, &quot;opacity&quot;: 1, &quot;subdomains&quot;: &quot;abc&quot;, &quot;tms&quot;: false}\n",
              "            ).addTo(map_efd10ea39b3d9740b9d39343ae0ac383);\n",
              "        \n",
              "    \n",
              "            var tile_layer_463b482876bfe5b67c72c8c893f83dd0 = L.tileLayer(\n",
              "                &quot;https://earthengine.googleapis.com/v1alpha/projects/earthengine-legacy/maps/8c38f9f8876e16282e1a582dab2c5516-c22527f0cf45d0efc76d6bed91cc77f9/tiles/{z}/{x}/{y}&quot;,\n",
              "                {&quot;attribution&quot;: &quot;Map Data \\u0026copy; \\u003ca href=\\&quot;https://earthengine.google.com/\\&quot;\\u003eGoogle Earth Engine\\u003c/a\\u003e&quot;, &quot;detectRetina&quot;: false, &quot;maxNativeZoom&quot;: 18, &quot;maxZoom&quot;: 18, &quot;minZoom&quot;: 0, &quot;noWrap&quot;: false, &quot;opacity&quot;: 1, &quot;subdomains&quot;: &quot;abc&quot;, &quot;tms&quot;: false}\n",
              "            ).addTo(map_efd10ea39b3d9740b9d39343ae0ac383);\n",
              "        \n",
              "    \n",
              "            var tile_layer_c399a77754f0b80ae7b4e853673d8e01 = L.tileLayer(\n",
              "                &quot;https://earthengine.googleapis.com/v1alpha/projects/earthengine-legacy/maps/a4f0b202e3e606f9f36f96847337b49d-f88a67b0c2cdb6d6384cc35d12577a4a/tiles/{z}/{x}/{y}&quot;,\n",
              "                {&quot;attribution&quot;: &quot;Map Data \\u0026copy; \\u003ca href=\\&quot;https://earthengine.google.com/\\&quot;\\u003eGoogle Earth Engine\\u003c/a\\u003e&quot;, &quot;detectRetina&quot;: false, &quot;maxNativeZoom&quot;: 18, &quot;maxZoom&quot;: 18, &quot;minZoom&quot;: 0, &quot;noWrap&quot;: false, &quot;opacity&quot;: 1, &quot;subdomains&quot;: &quot;abc&quot;, &quot;tms&quot;: false}\n",
              "            ).addTo(map_efd10ea39b3d9740b9d39343ae0ac383);\n",
              "        \n",
              "    \n",
              "            var tile_layer_ece07b151651a5ec7a1090b4bf3cd461 = L.tileLayer(\n",
              "                &quot;https://earthengine.googleapis.com/v1alpha/projects/earthengine-legacy/maps/b388241dcdef9707c189760eeea4cd75-a30ef6da7fd48ff4a2f6277eab60de10/tiles/{z}/{x}/{y}&quot;,\n",
              "                {&quot;attribution&quot;: &quot;Map Data \\u0026copy; \\u003ca href=\\&quot;https://earthengine.google.com/\\&quot;\\u003eGoogle Earth Engine\\u003c/a\\u003e&quot;, &quot;detectRetina&quot;: false, &quot;maxNativeZoom&quot;: 18, &quot;maxZoom&quot;: 18, &quot;minZoom&quot;: 0, &quot;noWrap&quot;: false, &quot;opacity&quot;: 1, &quot;subdomains&quot;: &quot;abc&quot;, &quot;tms&quot;: false}\n",
              "            ).addTo(map_efd10ea39b3d9740b9d39343ae0ac383);\n",
              "        \n",
              "    \n",
              "            var layer_control_8dff9e700e3e84fc24830b8c75a88dbb = {\n",
              "                base_layers : {\n",
              "                    &quot;openstreetmap&quot; : tile_layer_72a418a630bf7316239246e4286f54db,\n",
              "                },\n",
              "                overlays :  {\n",
              "                    &quot;2018-10-07&quot; : tile_layer_463b482876bfe5b67c72c8c893f83dd0,\n",
              "                    &quot;2018-11-08&quot; : tile_layer_c399a77754f0b80ae7b4e853673d8e01,\n",
              "                    &quot;2018-12-26&quot; : tile_layer_ece07b151651a5ec7a1090b4bf3cd461,\n",
              "                },\n",
              "            };\n",
              "            L.control.layers(\n",
              "                layer_control_8dff9e700e3e84fc24830b8c75a88dbb.base_layers,\n",
              "                layer_control_8dff9e700e3e84fc24830b8c75a88dbb.overlays,\n",
              "                {&quot;autoZIndex&quot;: true, &quot;collapsed&quot;: false, &quot;position&quot;: &quot;topright&quot;}\n",
              "            ).addTo(map_efd10ea39b3d9740b9d39343ae0ac383);\n",
              "        \n",
              "&lt;/script&gt;\n",
              "&lt;/html&gt;\" style=\"position:absolute;width:100%;height:100%;left:0;top:0;border:none !important;\" allowfullscreen webkitallowfullscreen mozallowfullscreen></iframe></div></div>"
            ]
          },
          "metadata": {}
        }
      ]
    },
    {
      "cell_type": "markdown",
      "source": [
        "## Save the folium map as an html file"
      ],
      "metadata": {
        "id": "LyPLMrDmEwz0"
      }
    },
    {
      "cell_type": "code",
      "source": [
        "my_map.save('camp.html')"
      ],
      "metadata": {
        "id": "RYk5oOAhErKy"
      },
      "execution_count": 26,
      "outputs": []
    },
    {
      "cell_type": "code",
      "source": [],
      "metadata": {
        "id": "oHhkeqAJEzDj"
      },
      "execution_count": null,
      "outputs": []
    }
  ],
  "metadata": {
    "colab": {
      "provenance": [],
      "authorship_tag": "ABX9TyO0z2mID6j+Wt6bWa1a9Ch/",
      "include_colab_link": true
    },
    "kernelspec": {
      "display_name": "Python 3",
      "name": "python3"
    },
    "language_info": {
      "name": "python"
    }
  },
  "nbformat": 4,
  "nbformat_minor": 0
}